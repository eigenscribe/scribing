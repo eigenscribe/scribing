{
 "cells": [
  {
   "cell_type": "code",
   "execution_count": 1,
   "id": "34ee95ff",
   "metadata": {},
   "outputs": [],
   "source": [
    "# --- Cell 1: Notebook Metadata ---\n",
    "# Title: Demo Plots & Notes\n",
    "# Author: Eigenscribe\n",
    "# Date: YYYY-MM-DD\n",
    "# Version: v1.0\n",
    "# Description: Template for conceptual notes, quick demos, and plotting tests."
   ]
  },
  {
   "cell_type": "markdown",
   "id": "a0b3d24c",
   "metadata": {},
   "source": [
    "# 📘 Demo Notebook Template\n",
    "**Purpose:** Quick plots, conceptual explanations, and experimental code snippets.\n",
    "**Notes:** Keep this clean and reusable"
   ]
  },
  {
   "cell_type": "code",
   "execution_count": 2,
   "metadata": {},
   "outputs": [
    {
     "name": "stdout",
     "output_type": "stream",
     "text": [
      "Environment ready!\n"
     ]
    }
   ],
   "source": [
    "# --- Cell 2: Import and Setup ---\n",
    "import numpy as np\n",
    "import pandas as pd\n",
    "import matplotlib.pyplot as plt\n",
    "\n",
    "# Configure plots\n",
    "plt.rcParams['figure.figsize'] = (8, 5)\n",
    "plt.rcParams['axes.grid'] = True\n",
    "plt.style.use('default')\n",
    "\n",
    "# Set random seed for reproducibility \n",
    "np.random.seed(27)\n",
    "\n",
    "print(\"Environment ready!\")"
   ]
  }
 ],
 "metadata": {
  "kernelspec": {
   "display_name": ".venv (3.11.2)",
   "language": "python",
   "name": "python3"
  },
  "language_info": {
   "codemirror_mode": {
    "name": "ipython",
    "version": 3
   },
   "file_extension": ".py",
   "mimetype": "text/x-python",
   "name": "python",
   "nbconvert_exporter": "python",
   "pygments_lexer": "ipython3",
   "version": "3.11.2"
  }
 },
 "nbformat": 4,
 "nbformat_minor": 5
}
