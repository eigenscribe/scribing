{
 "cells": [
  {
   "cell_type": "code",
   "execution_count": 26,
   "id": "34ee95ff",
   "metadata": {},
   "outputs": [],
   "source": [
    "# --- Cell 1: Notebook Metadata ---\n",
    "# Title: Demo Plots & Notes\n",
    "# Author: Eigenscribe\n",
    "# Date: YYYY-MM-DD\n",
    "# Version: v1.0\n",
    "# Description: Template for conceptual notes, quick demos, and plotting tests."
   ]
  },
  {
   "cell_type": "markdown",
   "id": "a0b3d24c",
   "metadata": {},
   "source": [
    "# 📘 Demo Notebook Template\n",
    "**Purpose:** Quick plots, conceptual explanations, and experimental code snippets.\n",
    "**Notes:** Keep this clean and reusable"
   ]
  },
  {
   "cell_type": "code",
   "execution_count": 27,
   "metadata": {},
   "outputs": [
    {
     "name": "stdout",
     "output_type": "stream",
     "text": [
      "Environment ready!\n"
     ]
    }
   ],
   "source": [
    "# --- Cell 2: Import and Setup ---\n",
    "import numpy as np\n",
    "import pandas as pd\n",
    "import matplotlib.pyplot as plt\n",
    "\n",
    "# Reset + set global defaults (run once)\n",
    "import matplotlib.pyplot as plt\n",
    "plt.rcdefaults()\n",
    "plt.rcParams['figure.figsize'] = (4, 2.5)   # inches\n",
    "plt.rcParams['axes.grid'] = True\n",
    "\n",
    "# Tell the inline backend not to upscale\n",
    "%config InlineBackend.figure_format = 'png'   # plain PNG, no retina\n",
    "%config InlineBackend.print_figure_kwargs = {'bbox_inches': None}\n",
    "\n",
    "\n",
    "# Set random seed for reproducibility \n",
    "np.random.seed(27)\n",
    "\n",
    "print(\"Environment ready!\")"
   ]
  },
  {
   "cell_type": "markdown",
   "id": "79265771",
   "metadata": {},
   "source": [
    "## 1. Conceptual Notes\n",
    "Use this section for derivatives, key equations, or conceptual equations"
   ]
  },
  {
   "cell_type": "code",
   "execution_count": 28,
   "id": "387c0dda",
   "metadata": {},
   "outputs": [
    {
     "name": "stdout",
     "output_type": "stream",
     "text": [
      "Thermal energy:  4.14e-21 J\n"
     ]
    }
   ],
   "source": [
    "# --- Cell 3: Example Calculation ---\n",
    "# Quck math example\n",
    "k_B = 1.38e-23     # Boltzmann constant (J/K)\n",
    "T = 300            # Temperature (K)\n",
    "energy = k_B * T\n",
    "print(f\"Thermal energy: {energy: .2e} J\")"
   ]
  },
  {
   "cell_type": "markdown",
   "id": "5be8d9c1",
   "metadata": {},
   "source": [
    "## 2. Demo Plots\n",
    "Use this section for plot prototypes and experiments."
   ]
  },
  {
   "cell_type": "code",
   "execution_count": 29,
   "id": "2549005d",
   "metadata": {},
   "outputs": [
    {
     "data": {
      "image/png": "[encoded data removed]",
      "text/plain": [
       "<Figure size 400x250 with 1 Axes>"
      ]
     },
     "metadata": {},
     "output_type": "display_data"
    }
   ],
   "source": [
    "# --- Cell 4: Demo Plot ---\n",
    "x = np.linspace(0, 10, 100)\n",
    "y = np.sin(x)\n",
    "\n",
    "plt.plot(x, y, label='sin(x)')\n",
    "plt.title(\"Demo Sine Plot\")\n",
    "plt.xlabel(\"x\")\n",
    "plt.ylabel(\"sin(x)\")\n",
    "plt.legend()\n",
    "plt.show()"
   ]
  },
  {
   "cell_type": "markdown",
   "id": "3f282c1f",
   "metadata": {},
   "source": [
    "## 3. Coding Notes\n",
    "- Notes or snippets or libraries\n",
    "- TODO lists or reminders"
   ]
  },
  {
   "cell_type": "markdown",
   "id": "5ead852e",
   "metadata": {},
   "source": [
    "## 4. Experiments / Sandbox\n",
    "Use this section for quick try-outs or debugging."
   ]
  },
  {
   "cell_type": "code",
   "execution_count": 30,
   "id": "57d66c45",
   "metadata": {},
   "outputs": [
    {
     "name": "stdout",
     "output_type": "stream",
     "text": [
      "Mean: 0.09965728754220285\n"
     ]
    }
   ],
   "source": [
    "# --- Cell 5: Sandbox ---\n",
    "data = np.random.randn(100)\n",
    "print(\"Mean:\", np.mean(data))"
   ]
  },
  {
   "cell_type": "markdown",
   "id": "18bfe598",
   "metadata": {},
   "source": [
    "## 5. Summary / Next Steps\n",
    "- Summary of what was tested\n",
    "- Notes on what to try next"
   ]
  }
 ],
 "metadata": {
  "kernelspec": {
   "display_name": ".venv (3.11.2)",
   "language": "python",
   "name": "python3"
  },
  "language_info": {
   "codemirror_mode": {
    "name": "ipython",
    "version": 3
   },
   "file_extension": ".py",
   "mimetype": "text/x-python",
   "name": "python",
   "nbconvert_exporter": "python",
   "pygments_lexer": "ipython3",
   "version": "3.11.2"
  }
 },
 "nbformat": 4,
 "nbformat_minor": 5
}
