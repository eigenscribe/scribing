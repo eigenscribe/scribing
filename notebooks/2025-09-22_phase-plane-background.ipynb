{
 "cells": [
  {
   "cell_type": "markdown",
   "id": "3034113b",
   "metadata": {},
   "source": [
    "Source: https://www.fabriziomusacchio.com/blog/2024-03-17-phase_plane_analysis/"
   ]
  },
  {
   "cell_type": "markdown",
   "id": "60d5e155",
   "metadata": {},
   "source": [
    "# Setting the Stage - Mathematical Foundation\n",
    "Consider a system of two first-order ODEs of the form:\n",
    "    $$ \\begin{align*}\n",
    "        \\dot{x} &= f(x,y) \\\\\n",
    "        \\dot{y} &= g(x,y)\n",
    "    \\end{align*}$$\n",
    "where $x$ and $y$ are state variables with respective time deriviatives $\\dot{x}$ and $\\dot{y}$ and $f(x,y)$ and $g(x,y)$ are functions that define the dynamics of they system. \n",
    "\n",
    "The **phase plane** for our system is a 2D space defined by the state variables $x$ and $y$. \n",
    "- Each point $(x,y)$ in this space represents a unique state of the system. \n",
    "- The system's dynamics can be visualized by plotting its trajectories, $(\\dot{x}, \\dot{y})$ in this space."
   ]
  },
  {
   "cell_type": "markdown",
   "id": "f6bb7602",
   "metadata": {},
   "source": [
    "## Limit cycles\n",
    "A **limit cycle** is a closed trajectory in the phase plane and represents stable, unstable, or semi-stable periodic solutions of the system. \n",
    "- Can be identified in the phase plane by finding clsoed curves that are neither crossed inwards nor outwards by trajectories\n",
    "- Condition that a limit cycle fulfills: A starting point $(x_0, y_0)$ on the cycle is obtained after a period $T$:\n",
    "    $$x(T+t_0) = x(t_0) \\quad \\text{and} \\quad y(T+t_0)=y(t_0)$$\n",
    "\n",
    "    $\\forall \\ t_0$, where $x(t)$ and $y(t)$ are solutions of the system."
   ]
  },
  {
   "cell_type": "markdown",
   "id": "b99077be",
   "metadata": {},
   "source": [
    "## Nullclines\n",
    "A **nullcline** is a curve on the phase plane where one of the state variables has a zero derivative. We can find the $x$ nullcline of a system by setting $f(x,y)=0$ and $y$ nullcline by setting $g(x,y)=0$$.\n",
    "- Nullclines are used to identify equlibrium points and visualize the system's dynamics $\\rightarrow$ they divide the phase plane into regions of different dynamics; this helps understand the behavior of a system (particullarly the tendency of trajectories to move along or away form nullcline curves).\n",
    "- **Equilibrium points** = points on the phase plane where $x$ and $y$ nullclines intersect; these are points where the systems state variables do not change with time\n",
    "- Nullcine shape and position relative to state variables are crucial for analzying the stabilitiy and possible existence of limit cycles."
   ]
  },
  {
   "cell_type": "markdown",
   "id": "50eefd26",
   "metadata": {},
   "source": [
    "## Local behavior and stability analysis\n",
    "The **Jacobian matrix**:\n",
    "    $$ J = \\begin{bmatrix} \\frac{\\partial f}{\\partial x} & \\frac{\\partial f}{\\partial y} \\\\ \\frac{\\partial g}{\\partial x} & \\frac{\\partial g}{\\partial y}  \\end{bmatrix} $$\n",
    "Eigenvalues of the Jacobian matrix for a system provide information about its local stability for a point in the phase plane.\n",
    "- Cases\n",
    "1. Eigenvalues of $J$ have negative real parts $\\implies$ eigenvectors outline stable states toward which the system tends to move $\\implies$ intersection forms a **stable node**.\n",
    "2. Eigenvalues of $J$ have positive real parts $\\implies$ eigenvectors outline unstable states away from which the system tends to move $\\implies$ intersection forms an **unstable node**.\n",
    "3. One eigenvalue with a positive real part and one eigenvalue with a negative real part $\\implies$ eigenvectors for postive eigenvalue point away from intersection and eigenvectors for negative eigenvalue point twards the intersection point $\\implies$ instersection forms a **saddle point**. "
   ]
  },
  {
   "cell_type": "markdown",
   "id": "109e5ef3",
   "metadata": {
    "vscode": {
     "languageId": "bat"
    }
   },
   "source": [
    "# Example: Simple Pendulum\n",
    "System can be described by the following ODE:\n",
    "$$\\frac{d^2\\theta}{dt^2} + \\frac{g}{l}\\sin{\\theta} = 0$$\n",
    "where $\\theta$ denotes the angle of deflection of the pendulum from the vertical, $g$ denotes gravitational acceleration ($9.81 \\ \\mathrm{m/s^2}$), and $l$ denotes the length of the rope.\n",
    "\n",
    "Assumptions\n",
    "- No friction\n",
    "- No air resistance\n",
    "\n",
    "**Potential energy of the rope**:\n",
    "$$U=mgh=mgl(1-\\cos{\\theta})$$\n",
    "where $m$ denotes the mass of the pendulum bob and $h$ is the height above its lowest position.\n",
    "\n",
    "Suppose $m=1$ unit mass and $l=1$ unit length.\n",
    "\n",
    "Convert the second order ODE into two first order ODEs via introduction of a new variable $v=\\frac{d\\theta}{dt}$:"
   ]
  }
 ],
 "metadata": {
  "language_info": {
   "name": "python"
  }
 },
 "nbformat": 4,
 "nbformat_minor": 5
}
